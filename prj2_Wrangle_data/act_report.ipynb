{
 "cells": [
  {
   "cell_type": "markdown",
   "metadata": {},
   "source": [
    "## Report: act_report"
   ]
  },
  {
   "cell_type": "markdown",
   "metadata": {},
   "source": [
    "From getting count of the names, maximum count and sorting the values in descending order and plotting on a bar chart we find that the most used dog name is Charlie with the highest count which means people like to name their dog with the name Charlie for male and Lucy for female dogs."
   ]
  },
  {
   "cell_type": "code",
   "execution_count": null,
   "metadata": {},
   "outputs": [],
   "source": []
  },
  {
   "cell_type": "markdown",
   "metadata": {},
   "source": [
    "From getting count of the names, maximum count and sorting the values in descending order and plotting on a bar chart we find that the most used dog name is Charlie with the highest count which means people like to name their dog with the name Charlie for male and Lucy for female dogs.\n",
    "\n",
    "Also from the count on the language used in with dogs by their owners which the understand we found out that english is the most used language(en) with a count of over 2000 in commucating to dogs followed  by a special languages represented by (und) with a count of 7.\n",
    "\n",
    "\n",
    "From consecutive bar plots after grouping the data set by the stage(category) of the dogs being posted on weRateDogs twitter account page we found out that the dog catefory pupper was the most posted but eventhough being the most posted, the favorite dog category is found to be puppo with the highest combined mean of favourite count. It is also seen that on average people tend to retweet post for doggo category than any other catefory of the dogs being posted on weRatDogs twitter account page. This is shows that  people tend to retweet post of dogs they are interested more often eventhogh the post might not be frequent than those frequently posted so the number of post does not influence the number of retweets or number of favorites to the dog category.\n",
    "\n",
    "Grouping the tweets by image number and counting the number of tweets in each group showed that the the highest number of tweets were with a single photo but a plot of the average count of retweets on the different group of image numbers showed that tweets with 4 pictures were mostly tweeted than those with less. The plot clearly shows that the more the number of pictures on a tweet the greater the chances that it will be retweeted.\n"
   ]
  },
  {
   "cell_type": "code",
   "execution_count": 2,
   "metadata": {},
   "outputs": [
    {
     "data": {
      "text/plain": [
       "0"
      ]
     },
     "execution_count": 2,
     "metadata": {},
     "output_type": "execute_result"
    }
   ],
   "source": [
    "from subprocess import call\n",
    "call(['python', '-m', 'nbconvert', 'act_report.ipynb'])"
   ]
  }
 ],
 "metadata": {
  "kernelspec": {
   "display_name": "Python 3",
   "language": "python",
   "name": "python3"
  },
  "language_info": {
   "codemirror_mode": {
    "name": "ipython",
    "version": 3
   },
   "file_extension": ".py",
   "mimetype": "text/x-python",
   "name": "python",
   "nbconvert_exporter": "python",
   "pygments_lexer": "ipython3",
   "version": "3.6.3"
  }
 },
 "nbformat": 4,
 "nbformat_minor": 2
}
