{
 "cells": [
  {
   "cell_type": "markdown",
   "metadata": {},
   "source": [
    "## Reporting: wragle_report"
   ]
  },
  {
   "cell_type": "code",
   "execution_count": null,
   "metadata": {},
   "outputs": [],
   "source": []
  },
  {
   "cell_type": "markdown",
   "metadata": {},
   "source": [
    "This process was broken into the following:\n",
    "* `Gathereing data`\n",
    "* `Assessing data`\n",
    "*  `cleaning data` \n",
    "### 1: Gathereing data\n",
    "The first dataset i gathered was twitter-archive-enhanced.csv which I downloaded directly from my udacity classroom as instructed on project overview.\n",
    "I went ahead to download the second dataset the image_predictions using the request api  get method on the url https://video.udacity-data.com/topher/2018/November/5bf60fe7_image-predictions/image-predictions.tsv as provided in my udacity classroom.\n",
    "For thhe third dataset which was suppose to be scraped from twitter using tweepy, I downloaded the twitter-json.txt provided in the classroom as i was unable to get developer account on twitter. \n",
    "\n",
    "### 2: Accessing data\n",
    "After loading the datasets into dataframes I went ahead to access the dataframes by programatically printing each of the dataframes and for \n",
    "the twitter_archive_enhanced  i had to view it on libreoffice calc to be able to view the whole data in each column since jupyter notebook could not display its entire dataframe data. Also for the tweets-json after reeading it line by line to a dataframe jupyter notebook could not also display all of its colums so i created a csv file and stored the dataframe in it and the went ahead the csv locally on libreoofice calc. After programatically and  vissualy accessing the different datasets i spouted the following quality issues and tidiness issues amongst several others\n",
    "#### Quality issues\n",
    "\n",
    "###### `twitter_archive_enhanced`\n",
    "1. not all are dog ratings and some are retweets replies.\n",
    "2. missing attributes contained in image_predictions\n",
    "\n",
    "3. timestamp has a type string not a Date type \n",
    "\n",
    "4. rating_numerator is of type int instead of float and wrongly extracted\n",
    "\n",
    "5. english verbs and None for null names in name column\n",
    "\n",
    "##### tweets\n",
    "\n",
    "6. user column contains the same information about the author WeRateDogs™ (author)\n",
    "7. extended_entities contains information already in enitities\n",
    "8. id and id_str represent same information tweet_id\n",
    "8. in_reply_to_status_id_str , in_reply_to_user_id_str, quoted_status_id_str and  possibly_sensitive_appealable denote data already in the data set except for the datatype in the first two\n",
    "\n",
    "##### Tidiness issues\n",
    "1. one vaariable (dog_category) in four columns doggo, floofer, pupper, and puppo contains columns\n",
    "\n",
    "2. contibutors, coordinators and geo contain zero non null objects\n",
    "3. tweets-json needs to be part of twitter_enhanced\n",
    "\n",
    "### 2: Cleaning data\n",
    "After cleaning the above mentioned  quality issues through suitable methods i had join the datasets in which i had to rename some columns which contained the same unifying data but having different column names like id in tweets was renamed to tweet_id and timestamp in twitter_enhanced was renamed to created_at to reflect the fact that it denotes time and  ensure the joining was correctly done\n"
   ]
  },
  {
   "cell_type": "code",
   "execution_count": 1,
   "metadata": {},
   "outputs": [
    {
     "data": {
      "text/plain": [
       "0"
      ]
     },
     "execution_count": 1,
     "metadata": {},
     "output_type": "execute_result"
    }
   ],
   "source": [
    "from subprocess import call\n",
    "call(['python', '-m', 'nbconvert', 'wrangle_report.ipynb'])"
   ]
  }
 ],
 "metadata": {
  "kernelspec": {
   "display_name": "Python 3",
   "language": "python",
   "name": "python3"
  },
  "language_info": {
   "codemirror_mode": {
    "name": "ipython",
    "version": 3
   },
   "file_extension": ".py",
   "mimetype": "text/x-python",
   "name": "python",
   "nbconvert_exporter": "python",
   "pygments_lexer": "ipython3",
   "version": "3.6.3"
  }
 },
 "nbformat": 4,
 "nbformat_minor": 2
}
